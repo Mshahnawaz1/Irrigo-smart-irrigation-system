{
 "cells": [
  {
   "cell_type": "code",
   "execution_count": 9,
   "id": "c8551e8b-954d-44d6-b4c6-139f6d06777e",
   "metadata": {
    "scrolled": true
   },
   "outputs": [
    {
     "data": {
      "text/html": [
       "<div>\n",
       "<style scoped>\n",
       "    .dataframe tbody tr th:only-of-type {\n",
       "        vertical-align: middle;\n",
       "    }\n",
       "\n",
       "    .dataframe tbody tr th {\n",
       "        vertical-align: top;\n",
       "    }\n",
       "\n",
       "    .dataframe thead th {\n",
       "        text-align: right;\n",
       "    }\n",
       "</style>\n",
       "<table border=\"1\" class=\"dataframe\">\n",
       "  <thead>\n",
       "    <tr style=\"text-align: right;\">\n",
       "      <th></th>\n",
       "      <th>soil moisture</th>\n",
       "      <th>humidity</th>\n",
       "      <th>temperature</th>\n",
       "      <th>irrigation required</th>\n",
       "    </tr>\n",
       "  </thead>\n",
       "  <tbody>\n",
       "    <tr>\n",
       "      <th>0</th>\n",
       "      <td>39.963210</td>\n",
       "      <td>42.959305</td>\n",
       "      <td>21.542642</td>\n",
       "      <td>1</td>\n",
       "    </tr>\n",
       "    <tr>\n",
       "      <th>1</th>\n",
       "      <td>86.057145</td>\n",
       "      <td>67.933066</td>\n",
       "      <td>21.174470</td>\n",
       "      <td>0</td>\n",
       "    </tr>\n",
       "    <tr>\n",
       "      <th>2</th>\n",
       "      <td>68.559515</td>\n",
       "      <td>91.106209</td>\n",
       "      <td>37.656365</td>\n",
       "      <td>0</td>\n",
       "    </tr>\n",
       "    <tr>\n",
       "      <th>3</th>\n",
       "      <td>57.892679</td>\n",
       "      <td>81.255742</td>\n",
       "      <td>21.238655</td>\n",
       "      <td>0</td>\n",
       "    </tr>\n",
       "    <tr>\n",
       "      <th>4</th>\n",
       "      <td>22.481491</td>\n",
       "      <td>86.459280</td>\n",
       "      <td>21.798743</td>\n",
       "      <td>1</td>\n",
       "    </tr>\n",
       "    <tr>\n",
       "      <th>...</th>\n",
       "      <td>...</td>\n",
       "      <td>...</td>\n",
       "      <td>...</td>\n",
       "      <td>...</td>\n",
       "    </tr>\n",
       "    <tr>\n",
       "      <th>995</th>\n",
       "      <td>17.326566</td>\n",
       "      <td>75.986861</td>\n",
       "      <td>36.632394</td>\n",
       "      <td>1</td>\n",
       "    </tr>\n",
       "    <tr>\n",
       "      <th>996</th>\n",
       "      <td>83.385086</td>\n",
       "      <td>96.963023</td>\n",
       "      <td>18.931830</td>\n",
       "      <td>0</td>\n",
       "    </tr>\n",
       "    <tr>\n",
       "      <th>997</th>\n",
       "      <td>20.945490</td>\n",
       "      <td>34.827061</td>\n",
       "      <td>22.744696</td>\n",
       "      <td>1</td>\n",
       "    </tr>\n",
       "    <tr>\n",
       "      <th>998</th>\n",
       "      <td>86.018988</td>\n",
       "      <td>33.993830</td>\n",
       "      <td>22.251138</td>\n",
       "      <td>0</td>\n",
       "    </tr>\n",
       "    <tr>\n",
       "      <th>999</th>\n",
       "      <td>45.680462</td>\n",
       "      <td>49.753095</td>\n",
       "      <td>36.785351</td>\n",
       "      <td>1</td>\n",
       "    </tr>\n",
       "  </tbody>\n",
       "</table>\n",
       "<p>1000 rows × 4 columns</p>\n",
       "</div>"
      ],
      "text/plain": [
       "     soil moisture   humidity  temperature  irrigation required\n",
       "0        39.963210  42.959305    21.542642                    1\n",
       "1        86.057145  67.933066    21.174470                    0\n",
       "2        68.559515  91.106209    37.656365                    0\n",
       "3        57.892679  81.255742    21.238655                    0\n",
       "4        22.481491  86.459280    21.798743                    1\n",
       "..             ...        ...          ...                  ...\n",
       "995      17.326566  75.986861    36.632394                    1\n",
       "996      83.385086  96.963023    18.931830                    0\n",
       "997      20.945490  34.827061    22.744696                    1\n",
       "998      86.018988  33.993830    22.251138                    0\n",
       "999      45.680462  49.753095    36.785351                    1\n",
       "\n",
       "[1000 rows x 4 columns]"
      ]
     },
     "execution_count": 9,
     "metadata": {},
     "output_type": "execute_result"
    }
   ],
   "source": [
    "import pandas as pd\n",
    "from sklearn.model_selection import train_test_split\n",
    "from sklearn.preprocessing import LabelEncoder\n",
    "from sklearn.ensemble import RandomForestClassifier\n",
    "from sklearn.metrics import accuracy_score, classification_report\n",
    "\n",
    "# Load dataset\n",
    "# data = pd.read_csv(\"rice_water_requirement.csv\")\n",
    "data = pd.read_csv(\"moisture_data.csv\")\n",
    "\n",
    "# moisture_data.csv\n",
    "data.rename(columns={'Soil Moisture (%)': 'soil moisture'}, inplace=True)\n",
    "data.rename(columns={'Humidity (%)': 'humidity'}, inplace=True)\n",
    "data.rename(columns={'Temperature (°C)': 'temperature'}, inplace=True)\n",
    "\n",
    "# Encode categorical target variable\n",
    "label_encoder = LabelEncoder()\n",
    "data[\"Irrigation Required\"] = label_encoder.fit_transform(data[\"Irrigation Required\"])  # Yes = 1, No = 0\n",
    "\n",
    "data.columns = data.columns.str.lower()\n",
    "data\n"
   ]
  },
  {
   "cell_type": "code",
   "execution_count": null,
   "id": "fb50a49b-7081-4f97-9d3b-8921fee6aac8",
   "metadata": {
    "scrolled": true
   },
   "outputs": [],
   "source": [
    "\n"
   ]
  },
  {
   "cell_type": "code",
   "execution_count": 11,
   "id": "838aa208-bff3-412a-a6c1-220335800997",
   "metadata": {},
   "outputs": [
    {
     "data": {
      "text/plain": [
       "0.992"
      ]
     },
     "execution_count": 11,
     "metadata": {},
     "output_type": "execute_result"
    }
   ],
   "source": [
    "X = data[[\"soil moisture\", \"humidity\", \"temperature\"]]\n",
    "y = data[\"irrigation required\"]\n",
    "\n",
    "X_train, X_test, y_train, y_test = train_test_split(X, y, test_size=0.5, random_state=42)\n",
    "\n",
    "# Train model (Random Forest Classifier)\n",
    "model = RandomForestClassifier(n_estimators=100, random_state=42)\n",
    "model.fit(X_train, y_train)\n",
    "\n",
    "# Predictions\n",
    "y_pred = model.predict(X_test)\n",
    "\n",
    "# Model Evaluation\n",
    "accuracy = accuracy_score(y_test, y_pred)\n",
    "report = classification_report(y_test, y_pred)\n",
    "accuracy"
   ]
  },
  {
   "cell_type": "code",
   "execution_count": 13,
   "id": "376fc04d-5b47-4de7-91e4-daf3da1f0a82",
   "metadata": {},
   "outputs": [],
   "source": [
    "import pandas \n",
    "import numpy as np"
   ]
  },
  {
   "cell_type": "code",
   "execution_count": 14,
   "id": "57dc881c-01e2-44bd-b475-192ff4ac7f89",
   "metadata": {},
   "outputs": [
    {
     "data": {
      "text/plain": [
       "1"
      ]
     },
     "execution_count": 14,
     "metadata": {},
     "output_type": "execute_result"
    }
   ],
   "source": [
    "data = {\n",
    "    \"soil moisture\": 30.5,\n",
    "    \"humidity\": 100,\n",
    "    \"temperature\": 22.0\n",
    "}\n",
    "newdata = pd.DataFrame({\n",
    "        \"soil moisture\" : [data['soil moisture']],\n",
    "        \"humidity\" : data['humidity'] , \n",
    "        \"temperature\": data['temperature'],\n",
    "\n",
    "        })\n",
    "x = model.predict(newdata)\n",
    "x[0]"
   ]
  },
  {
   "cell_type": "code",
   "execution_count": 15,
   "id": "0770ae1b-6d8a-40e2-96c0-4676e7d22529",
   "metadata": {},
   "outputs": [
    {
     "name": "stdout",
     "output_type": "stream",
     "text": [
      "Model saved to irrigation_model0.pkl\n"
     ]
    }
   ],
   "source": [
    "import pickle\n",
    "\n",
    "# Save the model to a file\n",
    "with open(\"irrigation_model0.pkl\", \"wb\") as f:\n",
    "    pickle.dump(model, f)\n",
    "\n",
    "print(\"Model saved to irrigation_model0.pkl\")"
   ]
  },
  {
   "cell_type": "code",
   "execution_count": null,
   "id": "dddf6e78-38c7-45a0-9b48-3f2cd316d7b5",
   "metadata": {},
   "outputs": [],
   "source": [
    "# making a different model\n"
   ]
  },
  {
   "cell_type": "code",
   "execution_count": null,
   "id": "e178b4a5-4478-4bd1-9a96-ad15108880a9",
   "metadata": {},
   "outputs": [],
   "source": []
  }
 ],
 "metadata": {
  "kernelspec": {
   "display_name": "Python (cs50aiVenv)",
   "language": "python",
   "name": "cs50aivenv"
  },
  "language_info": {
   "codemirror_mode": {
    "name": "ipython",
    "version": 3
   },
   "file_extension": ".py",
   "mimetype": "text/x-python",
   "name": "python",
   "nbconvert_exporter": "python",
   "pygments_lexer": "ipython3",
   "version": "3.11.4"
  }
 },
 "nbformat": 4,
 "nbformat_minor": 5
}
