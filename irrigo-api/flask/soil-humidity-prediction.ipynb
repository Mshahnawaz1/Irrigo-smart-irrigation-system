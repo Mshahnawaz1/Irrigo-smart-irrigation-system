{
 "cells": [
  {
   "cell_type": "code",
   "execution_count": 54,
   "id": "e5bd8d65-fa32-41b2-8257-145339f6fade",
   "metadata": {},
   "outputs": [],
   "source": [
    "import pandas as pd\n",
    "from sklearn.ensemble import RandomForestRegressor\n",
    "from sklearn.model_selection import train_test_split\n",
    "from sklearn.metrics import mean_squared_error, r2_score\n",
    "from sklearn.linear_model import LinearRegression"
   ]
  },
  {
   "cell_type": "code",
   "execution_count": 149,
   "id": "5013b746-1702-45c1-b96b-a82168d02c0a",
   "metadata": {},
   "outputs": [
    {
     "data": {
      "text/html": [
       "<div>\n",
       "<style scoped>\n",
       "    .dataframe tbody tr th:only-of-type {\n",
       "        vertical-align: middle;\n",
       "    }\n",
       "\n",
       "    .dataframe tbody tr th {\n",
       "        vertical-align: top;\n",
       "    }\n",
       "\n",
       "    .dataframe thead th {\n",
       "        text-align: right;\n",
       "    }\n",
       "</style>\n",
       "<table border=\"1\" class=\"dataframe\">\n",
       "  <thead>\n",
       "    <tr style=\"text-align: right;\">\n",
       "      <th></th>\n",
       "      <th>soil_moisture</th>\n",
       "      <th>humidity</th>\n",
       "      <th>temperature</th>\n",
       "      <th>rainfall</th>\n",
       "      <th>predicted_rainfall</th>\n",
       "      <th>irrigation_required</th>\n",
       "    </tr>\n",
       "  </thead>\n",
       "  <tbody>\n",
       "    <tr>\n",
       "      <th>0</th>\n",
       "      <td>29.400720</td>\n",
       "      <td>53.248217</td>\n",
       "      <td>32.483571</td>\n",
       "      <td>31.158621</td>\n",
       "      <td>3.721421</td>\n",
       "      <td>25.358607</td>\n",
       "    </tr>\n",
       "    <tr>\n",
       "      <th>1</th>\n",
       "      <td>13.416121</td>\n",
       "      <td>58.554813</td>\n",
       "      <td>29.308678</td>\n",
       "      <td>3.721421</td>\n",
       "      <td>25.184588</td>\n",
       "      <td>25.735716</td>\n",
       "    </tr>\n",
       "    <tr>\n",
       "      <th>2</th>\n",
       "      <td>48.898456</td>\n",
       "      <td>52.075801</td>\n",
       "      <td>33.238443</td>\n",
       "      <td>25.184588</td>\n",
       "      <td>9.131257</td>\n",
       "      <td>2.205523</td>\n",
       "    </tr>\n",
       "    <tr>\n",
       "      <th>3</th>\n",
       "      <td>30.720417</td>\n",
       "      <td>56.920385</td>\n",
       "      <td>37.615149</td>\n",
       "      <td>9.131257</td>\n",
       "      <td>28.698759</td>\n",
       "      <td>6.517578</td>\n",
       "    </tr>\n",
       "    <tr>\n",
       "      <th>4</th>\n",
       "      <td>34.567450</td>\n",
       "      <td>41.063853</td>\n",
       "      <td>28.829233</td>\n",
       "      <td>28.698759</td>\n",
       "      <td>31.870231</td>\n",
       "      <td>1.279742</td>\n",
       "    </tr>\n",
       "  </tbody>\n",
       "</table>\n",
       "</div>"
      ],
      "text/plain": [
       "   soil_moisture   humidity  temperature   rainfall  predicted_rainfall  \\\n",
       "0      29.400720  53.248217    32.483571  31.158621            3.721421   \n",
       "1      13.416121  58.554813    29.308678   3.721421           25.184588   \n",
       "2      48.898456  52.075801    33.238443  25.184588            9.131257   \n",
       "3      30.720417  56.920385    37.615149   9.131257           28.698759   \n",
       "4      34.567450  41.063853    28.829233  28.698759           31.870231   \n",
       "\n",
       "   irrigation_required  \n",
       "0            25.358607  \n",
       "1            25.735716  \n",
       "2             2.205523  \n",
       "3             6.517578  \n",
       "4             1.279742  "
      ]
     },
     "execution_count": 149,
     "metadata": {},
     "output_type": "execute_result"
    }
   ],
   "source": [
    "# predictions for irrigation\n",
    "\n",
    "new = pd.read_csv('indian_agriculture_dataset.csv')\n",
    "new.head()"
   ]
  },
  {
   "cell_type": "code",
   "execution_count": 151,
   "id": "ed2edc7f-05b3-4ac9-8db3-9714900e9c48",
   "metadata": {},
   "outputs": [
    {
     "data": {
      "text/html": [
       "<div>\n",
       "<style scoped>\n",
       "    .dataframe tbody tr th:only-of-type {\n",
       "        vertical-align: middle;\n",
       "    }\n",
       "\n",
       "    .dataframe tbody tr th {\n",
       "        vertical-align: top;\n",
       "    }\n",
       "\n",
       "    .dataframe thead th {\n",
       "        text-align: right;\n",
       "    }\n",
       "</style>\n",
       "<table border=\"1\" class=\"dataframe\">\n",
       "  <thead>\n",
       "    <tr style=\"text-align: right;\">\n",
       "      <th></th>\n",
       "      <th>soil_moisture</th>\n",
       "      <th>humidity</th>\n",
       "      <th>temperature</th>\n",
       "      <th>rainfall</th>\n",
       "      <th>predicted_rainfall</th>\n",
       "      <th>irrigation_required</th>\n",
       "    </tr>\n",
       "  </thead>\n",
       "  <tbody>\n",
       "    <tr>\n",
       "      <th>0</th>\n",
       "      <td>29.400720</td>\n",
       "      <td>53.248217</td>\n",
       "      <td>32.483571</td>\n",
       "      <td>31.158621</td>\n",
       "      <td>3.721421</td>\n",
       "      <td>25.358607</td>\n",
       "    </tr>\n",
       "    <tr>\n",
       "      <th>1</th>\n",
       "      <td>13.416121</td>\n",
       "      <td>58.554813</td>\n",
       "      <td>29.308678</td>\n",
       "      <td>3.721421</td>\n",
       "      <td>25.184588</td>\n",
       "      <td>25.735716</td>\n",
       "    </tr>\n",
       "    <tr>\n",
       "      <th>2</th>\n",
       "      <td>48.898456</td>\n",
       "      <td>52.075801</td>\n",
       "      <td>33.238443</td>\n",
       "      <td>25.184588</td>\n",
       "      <td>9.131257</td>\n",
       "      <td>0.000000</td>\n",
       "    </tr>\n",
       "    <tr>\n",
       "      <th>3</th>\n",
       "      <td>30.720417</td>\n",
       "      <td>56.920385</td>\n",
       "      <td>37.615149</td>\n",
       "      <td>9.131257</td>\n",
       "      <td>28.698759</td>\n",
       "      <td>6.517578</td>\n",
       "    </tr>\n",
       "    <tr>\n",
       "      <th>4</th>\n",
       "      <td>34.567450</td>\n",
       "      <td>41.063853</td>\n",
       "      <td>28.829233</td>\n",
       "      <td>28.698759</td>\n",
       "      <td>31.870231</td>\n",
       "      <td>0.000000</td>\n",
       "    </tr>\n",
       "  </tbody>\n",
       "</table>\n",
       "</div>"
      ],
      "text/plain": [
       "   soil_moisture   humidity  temperature   rainfall  predicted_rainfall  \\\n",
       "0      29.400720  53.248217    32.483571  31.158621            3.721421   \n",
       "1      13.416121  58.554813    29.308678   3.721421           25.184588   \n",
       "2      48.898456  52.075801    33.238443  25.184588            9.131257   \n",
       "3      30.720417  56.920385    37.615149   9.131257           28.698759   \n",
       "4      34.567450  41.063853    28.829233  28.698759           31.870231   \n",
       "\n",
       "   irrigation_required  \n",
       "0            25.358607  \n",
       "1            25.735716  \n",
       "2             0.000000  \n",
       "3             6.517578  \n",
       "4             0.000000  "
      ]
     },
     "execution_count": 151,
     "metadata": {},
     "output_type": "execute_result"
    }
   ],
   "source": [
    "new.loc[new['irrigation_required'] < 3, 'irrigation_required'] = 0\n",
    "new.head()"
   ]
  },
  {
   "cell_type": "code",
   "execution_count": null,
   "id": "2f749bb6-a552-442f-a67f-fd2293ea1c80",
   "metadata": {},
   "outputs": [],
   "source": [
    "X = new[['soil_moisture', 'humidity', 'temperature', 'predicted_rainfall']]\n",
    "y =  new['irrigation_required']\n",
    "\n",
    "# Train-test split (though we only have a small dataset, we still split)\n",
    "X_train, X_test, y_train, y_test = train_test_split(X, y, test_size=0.2, random_state=42)\n",
    "\n",
    "# Initialize and train the model\n",
    "model = RandomForestRegressor()\n",
    "model.fit(X_train, y_train)\n",
    "\n",
    "# Make predictions\n",
    "y_pred = model.predict(X_test)\n",
    "\n",
    "# Calculate the Mean Squared Error for evaluation\n",
    "mse = mean_squared_error(y_test, y_pred)\n",
    "# print(\"Predictions:\", y_pred)\n",
    "# print(\"Mean Squared Error:\", mse)\n",
    "# pred = model.predict([''])"
   ]
  },
  {
   "cell_type": "code",
   "execution_count": 164,
   "id": "2700f6c5-24a6-4be5-bc65-4a28482972e7",
   "metadata": {},
   "outputs": [
    {
     "data": {
      "text/plain": [
       "array([2.72943873])"
      ]
     },
     "execution_count": 164,
     "metadata": {},
     "output_type": "execute_result"
    }
   ],
   "source": [
    "data = {\n",
    "    \"soil moisture\": 40,\n",
    "    \"humidity\": 70,\n",
    "    \"temperature\": 11.0,\n",
    "    \"predicted_rainfall\" : 20\n",
    "}\n",
    "newdata = pd.DataFrame({\n",
    "        \"soil_moisture\" : [data['soil moisture']],\n",
    "        \"humidity\" : data['humidity'] , \n",
    "        \"temperature\": data['temperature'],\n",
    "        \"predicted_rainfall\" : data['predicted_rainfall']\n",
    "\n",
    "        })\n",
    "y = model.predict(newdata)\n",
    "y"
   ]
  },
  {
   "cell_type": "code",
   "execution_count": 155,
   "id": "92ac9bdc-ae8b-48ba-91f1-c912db42bcfb",
   "metadata": {},
   "outputs": [
    {
     "name": "stdout",
     "output_type": "stream",
     "text": [
      "Model saved to irrigation_model.pkl\n"
     ]
    }
   ],
   "source": [
    "import pickle\n",
    "\n",
    "# Save the model to a file\n",
    "with open(\"soil-rain-pred.pkl\", \"wb\") as f:\n",
    "    pickle.dump(model, f)\n",
    "\n",
    "print(\"Model saved to soil.pkl\")"
   ]
  }
 ],
 "metadata": {
  "kernelspec": {
   "display_name": "Python (cs50aiVenv)",
   "language": "python",
   "name": "cs50aivenv"
  },
  "language_info": {
   "codemirror_mode": {
    "name": "ipython",
    "version": 3
   },
   "file_extension": ".py",
   "mimetype": "text/x-python",
   "name": "python",
   "nbconvert_exporter": "python",
   "pygments_lexer": "ipython3",
   "version": "3.11.4"
  }
 },
 "nbformat": 4,
 "nbformat_minor": 5
}
